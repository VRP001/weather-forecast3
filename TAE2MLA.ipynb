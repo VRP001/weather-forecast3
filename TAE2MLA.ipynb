{
  "nbformat": 4,
  "nbformat_minor": 0,
  "metadata": {
    "colab": {
      "provenance": [],
      "authorship_tag": "ABX9TyO6ciHpUVmJuKFMYoMwxJ0L",
      "include_colab_link": true
    },
    "kernelspec": {
      "name": "python3",
      "display_name": "Python 3"
    },
    "language_info": {
      "name": "python"
    }
  },
  "cells": [
    {
      "cell_type": "markdown",
      "metadata": {
        "id": "view-in-github",
        "colab_type": "text"
      },
      "source": [
        "<a href=\"https://colab.research.google.com/github/VRP001/weather-forecast3/blob/main/TAE2MLA.ipynb\" target=\"_parent\"><img src=\"https://colab.research.google.com/assets/colab-badge.svg\" alt=\"Open In Colab\"/></a>"
      ]
    },
    {
      "cell_type": "code",
      "source": [
        "import numpy as np\n",
        "from sklearn.model_selection import train_test_split\n",
        "from sklearn.preprocessing import StandardScaler\n",
        "from sklearn.svm import SVC\n",
        "from sklearn.linear_model import LinearRegression\n",
        "from sklearn.metrics import accuracy_score, mean_squared_error\n",
        "\n",
        "# Dummy weather data (features)\n",
        "# Replace this with real weather data\n",
        "weather_data = np.array([[20, 50, 1013], [25, 60, 1010], [30, 70, 1008], [15, 45, 1015], [18, 55, 1012]])\n",
        "# Dummy weather labels (classes)\n",
        "# Replace this with real weather labels\n",
        "weather_labels = np.array(['sunny', 'sunny', 'cloudy', 'rainy', 'cloudy'])\n",
        "# Dummy weather target (temperature)\n",
        "# Replace this with real temperature data\n",
        "temperature_data = np.array([25, 28, 22, 15, 20])\n",
        "\n",
        "# Split data into training and testing sets for classification\n",
        "X_train_cls, X_test_cls, y_train_cls, y_test_cls = train_test_split(weather_data, weather_labels, test_size=0.2, random_state=42)\n",
        "\n",
        "# Standardize features for classification\n",
        "scaler_cls = StandardScaler()\n",
        "X_train_scaled_cls = scaler_cls.fit_transform(X_train_cls)\n",
        "X_test_scaled_cls = scaler_cls.transform(X_test_cls)\n",
        "\n",
        "# Train Support Vector Machine (SVM) for classification\n",
        "svm_model = SVC(kernel='rbf', C=1, gamma='auto')\n",
        "svm_model.fit(X_train_scaled_cls, y_train_cls)\n",
        "\n",
        "# Predictions for classification\n",
        "svm_predictions_cls = svm_model.predict(X_test_scaled_cls)\n",
        "\n",
        "# Evaluate accuracy for classification\n",
        "svm_accuracy_cls = accuracy_score(y_test_cls, svm_predictions_cls)\n",
        "print(\"SVM Classification Accuracy:\", svm_accuracy_cls)\n",
        "\n",
        "# Split data into training and testing sets for regression\n",
        "X_train_reg, X_test_reg, y_train_reg, y_test_reg = train_test_split(weather_data, temperature_data, test_size=0.2, random_state=42)\n",
        "\n",
        "# Standardize features for regression\n",
        "scaler_reg = StandardScaler()\n",
        "X_train_scaled_reg = scaler_reg.fit_transform(X_train_reg)\n",
        "X_test_scaled_reg = scaler_reg.transform(X_test_reg)\n",
        "\n",
        "# Train Linear Regression model for temperature prediction\n",
        "regression_model = LinearRegression()\n",
        "regression_model.fit(X_train_scaled_reg, y_train_reg)\n",
        "\n",
        "# Predictions for regression\n",
        "regression_predictions = regression_model.predict(X_test_scaled_reg)\n",
        "\n",
        "# Evaluate Mean Squared Error for regression\n",
        "mse = mean_squared_error(y_test_reg, regression_predictions)\n",
        "print(\"Linear Regression MSE:\", mse)\n",
        "\n",
        "# Example weather forecast with new weather data\n",
        "new_weather_data = np.array([[22, 55, 1011]])  # New weather data to predict\n",
        "new_weather_data_scaled = scaler_cls.transform(new_weather_data)\n",
        "\n",
        "# Predict weather class using SVM\n",
        "weather_class_forecast = svm_model.predict(new_weather_data_scaled)\n",
        "print(\"SVM Weather Forecast:\", weather_class_forecast)\n",
        "\n",
        "# Predict temperature using Linear Regression\n",
        "temperature_forecast = regression_model.predict(scaler_reg.transform(new_weather_data))\n",
        "print(\"Linear Regression Temperature Forecast (degree celcius):\", temperature_forecast)\n"
      ],
      "metadata": {
        "colab": {
          "base_uri": "https://localhost:8080/"
        },
        "id": "fqRxIRIXWaDt",
        "outputId": "dd297947-dea2-4c2b-e119-0933ae27c49d"
      },
      "execution_count": 7,
      "outputs": [
        {
          "output_type": "stream",
          "name": "stdout",
          "text": [
            "SVM Classification Accuracy: 0.0\n",
            "Linear Regression MSE: 5.586776859504081\n",
            "SVM Weather Forecast: ['cloudy']\n",
            "Linear Regression Temperature Forecast (degree celcius): [34.45454545]\n"
          ]
        }
      ]
    }
  ]
}